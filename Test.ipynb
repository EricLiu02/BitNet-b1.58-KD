{
  "nbformat": 4,
  "nbformat_minor": 0,
  "metadata": {
    "colab": {
      "provenance": [],
      "authorship_tag": "ABX9TyP2AExChvb4nez0rwOZTn3z",
      "include_colab_link": true
    },
    "kernelspec": {
      "name": "python3",
      "display_name": "Python 3"
    },
    "language_info": {
      "name": "python"
    }
  },
  "cells": [
    {
      "cell_type": "markdown",
      "metadata": {
        "id": "view-in-github",
        "colab_type": "text"
      },
      "source": [
        "<a href=\"https://colab.research.google.com/github/EricLiu02/BitNet-b1.58-KD/blob/main/Test.ipynb\" target=\"_parent\"><img src=\"https://colab.research.google.com/assets/colab-badge.svg\" alt=\"Open In Colab\"/></a>"
      ]
    },
    {
      "cell_type": "code",
      "execution_count": 8,
      "metadata": {
        "colab": {
          "base_uri": "https://localhost:8080/"
        },
        "id": "1USEkNNECLNa",
        "outputId": "8033d873-e44b-4545-8515-738d3e538169"
      },
      "outputs": [
        {
          "output_type": "stream",
          "name": "stdout",
          "text": [
            "fatal: destination path 'BitNet-b1.58-KD' already exists and is not an empty directory.\n"
          ]
        }
      ],
      "source": [
        "\n",
        "!git clone https://github.com/EricLiu02/BitNet-b1.58-KD.git\n"
      ]
    },
    {
      "cell_type": "code",
      "source": [
        "!git config --global user.name \"EricLiu02\"\n",
        "!git config --global user.email \"eliu2002@stanford.edu\""
      ],
      "metadata": {
        "id": "VboUj5zKCXRF"
      },
      "execution_count": 9,
      "outputs": []
    },
    {
      "cell_type": "code",
      "source": [
        "%cd BitNet-b1.58-KD"
      ],
      "metadata": {
        "colab": {
          "base_uri": "https://localhost:8080/"
        },
        "id": "3qEA1iQYCvSM",
        "outputId": "ddfbf634-6013-45a5-8eb8-afe4cec03ed5"
      },
      "execution_count": 10,
      "outputs": [
        {
          "output_type": "stream",
          "name": "stdout",
          "text": [
            "/content/BitNet-b1.58-KD\n"
          ]
        }
      ]
    },
    {
      "cell_type": "code",
      "source": [
        "! git pull"
      ],
      "metadata": {
        "colab": {
          "base_uri": "https://localhost:8080/"
        },
        "id": "ArlDX0MxDBwT",
        "outputId": "f46e9568-847e-48e5-b7c2-963ce57c0888"
      },
      "execution_count": 14,
      "outputs": [
        {
          "output_type": "stream",
          "name": "stdout",
          "text": [
            "remote: Enumerating objects: 4, done.\u001b[K\n",
            "remote: Counting objects:  25% (1/4)\u001b[K\rremote: Counting objects:  50% (2/4)\u001b[K\rremote: Counting objects:  75% (3/4)\u001b[K\rremote: Counting objects: 100% (4/4)\u001b[K\rremote: Counting objects: 100% (4/4), done.\u001b[K\n",
            "remote: Compressing objects:  33% (1/3)\u001b[K\rremote: Compressing objects:  66% (2/3)\u001b[K\rremote: Compressing objects: 100% (3/3)\u001b[K\rremote: Compressing objects: 100% (3/3), done.\u001b[K\n",
            "remote: Total 3 (delta 0), reused 3 (delta 0), pack-reused 0 (from 0)\u001b[K\n",
            "Unpacking objects:  33% (1/3)\rUnpacking objects:  66% (2/3)\rUnpacking objects: 100% (3/3)\rUnpacking objects: 100% (3/3), 878 bytes | 878.00 KiB/s, done.\n",
            "From https://github.com/EricLiu02/BitNet-b1.58-KD\n",
            "   4c150dd..b469b37  main       -> origin/main\n",
            "Updating 4c150dd..b469b37\n",
            "Fast-forward\n",
            " load_and_test_bitnet | 30 \u001b[32m++++++++++++++++++++++++++++++\u001b[m\n",
            " 1 file changed, 30 insertions(+)\n",
            " create mode 100644 load_and_test_bitnet\n"
          ]
        }
      ]
    },
    {
      "cell_type": "code",
      "source": [],
      "metadata": {
        "id": "OaMH3AHjDJ3r"
      },
      "execution_count": null,
      "outputs": []
    }
  ]
}